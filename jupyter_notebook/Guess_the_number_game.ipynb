{
 "cells": [
  {
   "cell_type": "code",
   "execution_count": null,
   "id": "0a6ee950",
   "metadata": {},
   "outputs": [],
   "source": [
    "import random\n",
    "print(\"\"\"Welcome TO \"GUESS THE NUMBER\" game!! \"\"\")\n",
    "print(\"\")\n",
    "print(\"Guess between 1 and 100\")\n",
    "random_num= random.randint(0,100)       #randon number generate \n",
    "print(\"You have 5 chances\")\n",
    "input_number=int(input(\"Whats your 1st number? \"))\n",
    "#print(type(input_number))               #check type of input_number\n",
    "#input_num = int(input_number)\n",
    "# print(type(input_num))\n",
    "\n",
    "for x in range(0,5):\n",
    "    if input_number == random_num:\n",
    "        print(\"You guessed the right number\")\n",
    "        break\n",
    "    elif input_number <= random_num:\n",
    "        print(\"Your number is Smaller\")\n",
    "        input_number=int(input(\"Guess the number? \")) \n",
    "    else:\n",
    "        print(\"Your number is Greater\") \n",
    "        input_number=int(input(\"Guess the number? \")) \n",
    "    \n"
   ]
  },
  {
   "cell_type": "code",
   "execution_count": null,
   "id": "b65a31cb",
   "metadata": {},
   "outputs": [],
   "source": []
  },
  {
   "cell_type": "code",
   "execution_count": null,
   "id": "c484cb1f",
   "metadata": {},
   "outputs": [],
   "source": []
  },
  {
   "cell_type": "code",
   "execution_count": null,
   "id": "967b5448",
   "metadata": {},
   "outputs": [],
   "source": []
  },
  {
   "cell_type": "code",
   "execution_count": null,
   "id": "cad09bac",
   "metadata": {},
   "outputs": [],
   "source": []
  },
  {
   "cell_type": "code",
   "execution_count": null,
   "id": "8014a59a",
   "metadata": {},
   "outputs": [],
   "source": []
  }
 ],
 "metadata": {
  "kernelspec": {
   "display_name": "Python 3 (ipykernel)",
   "language": "python",
   "name": "python3"
  },
  "language_info": {
   "codemirror_mode": {
    "name": "ipython",
    "version": 3
   },
   "file_extension": ".py",
   "mimetype": "text/x-python",
   "name": "python",
   "nbconvert_exporter": "python",
   "pygments_lexer": "ipython3",
   "version": "3.9.12"
  }
 },
 "nbformat": 4,
 "nbformat_minor": 5
}
